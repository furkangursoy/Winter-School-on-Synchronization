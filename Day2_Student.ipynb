{
 "cells": [
  {
   "cell_type": "markdown",
   "metadata": {},
   "source": [
    "# Chaos Theory"
   ]
  },
  {
   "cell_type": "markdown",
   "metadata": {},
   "source": [
    "In higher dimensions we represent the state with the vector $\\mathbf{x} \\in \\mathbb{R}^n$. Since we know $\\dot{\\mathbf{x}} = \\mathbf{f}(\\mathbf{x})$, a numerical solution can be computed starting from an initial condition $t_0$ using three numerical methods we discussed yesteday. <br><br>\n",
    "As an example, consider the Lorenz system ($\\mathit{n=3}$) given by the set of differential equations:<br>\n",
    "$\\dot{x} = \\sigma (y-x)$<br>\n",
    "$\\dot{y} = x(\\rho-z)-y$<br>\n",
    "$\\dot{z} = xy - \\beta z$<br>\n",
    "\n",
    "Lorenz system produces chaotic dynamics under certain parameters sets. One such set is $(\\sigma,\\rho,\\beta) = (10, 28, 2.667 )$, which produces the celebrated ['Lorenz Butterfly'](https://www.google.com/search?client=safari&sxsrf=ALeKk03RKc84pQCltiGRXrIV45xJpK2ZSA%3A1583567768569&source=hp&ei=mFNjXsWoHs-6aZT9ocgL&q=lorenz+butterfly&oq=lorenz+b&gs_l=psy-ab.1.0.35i39i19j0l6j0i203l3.827.1484..3980...1.0..0.150.985.0j8......0....1..gws-wiz.......35i39j0i67j0i131.TEZnEqEFNsU) in the state space (The space of $(x,y,z)$). \n",
    "In this part, we will try to replicate Lorenz Butterfly using three different integrators."
   ]
  },
  {
   "cell_type": "code",
   "execution_count": 1,
   "metadata": {},
   "outputs": [],
   "source": [
    "import numpy as np\n",
    "import scipy as sp\n",
    "import matplotlib.pyplot as plt\n",
    "from mpl_toolkits import mplot3d\n",
    "%config InlineBackend.figure_format = 'retina'\n",
    "import matplotlib as mpl"
   ]
  },
  {
   "cell_type": "code",
   "execution_count": 2,
   "metadata": {},
   "outputs": [],
   "source": [
    "#Plot configurations\n",
    "mpl.rcParams['figure.dpi'] = 100\n",
    "plt.rcParams[\"figure.figsize\"] = (10,8)\n",
    "plt.rcParams[\"legend.fontsize\"] = 10\n",
    "plt.rcParams[\"axes.labelsize\"] = 20\n",
    "plt.rcParams[\"xtick.labelsize\"] = 15\n",
    "plt.rcParams[\"ytick.labelsize\"] = 15\n",
    "plt.rcParams[\"axes.grid\"] = True "
   ]
  },
  {
   "cell_type": "markdown",
   "metadata": {},
   "source": [
    "### Integrators"
   ]
  },
  {
   "cell_type": "code",
   "execution_count": 3,
   "metadata": {},
   "outputs": [],
   "source": [
    "def Euler(f, y0, t):  #Euler integrator\n",
    "    y = np.zeros((len(t),len(y0)))\n",
    "    y[0] = y0\n",
    "    for i in range(len(t) - 1):\n",
    "        dt = t[i+1] - t[i]\n",
    "        y[i+1]=y[i]+dt*f(y[i],t[i])\n",
    "    return y\n",
    "\n",
    "def Heun(f, y0, t):  # Heun integrator\n",
    "    y = np.zeros((len(t),len(y0)))\n",
    "    y[0] = y0\n",
    "    for i in range(len(t)-1):\n",
    "        dt = t[i+1] - t[i]\n",
    "        y_tilde = y[i] + dt*f(y[i],t[i]) # Euler formulation\n",
    "        y[i+1] = y[i] + 0.5*dt*(f(y[i],t[i])+f(y_tilde,t[i]+dt))\n",
    "    return y\n",
    "\n",
    "def rk4(f, y0, t): #RK4 integrator\n",
    "    n = len(t)\n",
    "    m = len(y0)\n",
    "    y = np.zeros((n,m))\n",
    "    y[0] = y0\n",
    "    for i in range(n - 1):\n",
    "        h = t[i+1] - t[i]\n",
    "        k1 = h * f(y[i], t[i])\n",
    "        k2 = h * f(y[i] + 0.5 * k1, t[i] + 0.5 * h)\n",
    "        k3 = h * f(y[i] + 0.5 * k2, t[i] + 0.5 * h)\n",
    "        k4 = h * f(y[i] + k3, t[i+1])\n",
    "        y[i+1] = y[i] + (k1 + 2.0 * ( k2 + k3 ) + k4)/6.0\n",
    "    return y"
   ]
  },
  {
   "cell_type": "markdown",
   "metadata": {},
   "source": [
    "Let us define Lorenz equations as a Python function (please note that in the function defined below as 'Lorenz', y is the state vector and t is the time vector. Not to be confused with arguments of the Lorenz equations which are time independent!):"
   ]
  },
  {
   "cell_type": "code",
   "execution_count": 11,
   "metadata": {},
   "outputs": [],
   "source": [
    "#Define a function for Lorenz equations\n",
    "\n",
    "def Lorenz(y,t):\n",
    "\n",
    "    \n",
    "    \n",
    "    \n",
    "    return dy"
   ]
  },
  {
   "cell_type": "code",
   "execution_count": 12,
   "metadata": {},
   "outputs": [],
   "source": [
    "# Use all three algorithm to integrate and then compare your results by plotting their phase spaces\n",
    "# Remember that Lorenz equations have no analytical solution \n",
    "\n",
    "sigma, rho, beta = 10, 28, 2.667 #chaotic parameters for Lorenz\n",
    "\n",
    "\n",
    "\n",
    "\n"
   ]
  },
  {
   "cell_type": "markdown",
   "metadata": {},
   "source": [
    "## Lyapunov Exponent of Lorenz System\n",
    "\n",
    "### Exponential Divergence of Nearby Trajectories\n",
    "\n",
    "The motion on the attractor exhibits sensitive dependence on initial conditions: infinitesimally close trajectories diverge exponentially fast from each other. We define the distance between trajectories as:\n",
    "\n",
    "\\begin{align}\n",
    "\\|\\delta (t)\\| \\approx \\|\\delta_0\\| e^{\\Lambda t}\n",
    "\\end{align}\n",
    "\n",
    "where $\\delta$ is the a measure of tiny seperation between trajectories, $\\Lambda$ is constant defining the speed of divergence. For these two trajectories to diverge from each other exponentially $\\Lambda$ should be greater than 0, and the system is then deduced to be chaotic. \n",
    "\n",
    "Below, we will study the difference in trajectories of two identical Lorenz systems with a slight difference in x initial condition only: (-8, 7, 27) and (-8.01, 7, 27)"
   ]
  },
  {
   "cell_type": "code",
   "execution_count": 13,
   "metadata": {},
   "outputs": [],
   "source": [
    "# You need two Lorenz systems\n",
    "# Define the initial conditions of one Lorenz slightly different from the other Lorenz\n",
    "\n",
    "\n",
    "\n",
    "\n",
    "\n",
    "\n"
   ]
  },
  {
   "cell_type": "markdown",
   "metadata": {},
   "source": [
    "Let us define the distance between trajectories, $\\delta$"
   ]
  },
  {
   "cell_type": "code",
   "execution_count": null,
   "metadata": {},
   "outputs": [],
   "source": [
    "Distance = np.zeros(len(t))\n",
    "def Dist(x,y):\n",
    "    d = 0.0\n",
    "    for i in range(0, len(x)):\n",
    "        d += (x[i]-y[i])**2\n",
    "    return d**(0.5)\n",
    "for i in range(0, len(t)):\n",
    "    Distance[i] = Dist(lorenz1[i],lorenz2[i])"
   ]
  },
  {
   "cell_type": "code",
   "execution_count": 16,
   "metadata": {},
   "outputs": [],
   "source": [
    "# Then plot the ln of the distance versus t and then \n",
    "\n",
    "\n",
    "\n",
    "\n"
   ]
  },
  {
   "cell_type": "markdown",
   "metadata": {},
   "source": [
    "Now we will fit a line to the increasing part of ln $\\delta$. We rule out the saturated part as the trajectories move in a bounded space, so that the separation on the attractor is limited to a value. "
   ]
  },
  {
   "cell_type": "code",
   "execution_count": 18,
   "metadata": {},
   "outputs": [],
   "source": [
    "# Use polyfit function to fit a line with degree 1 to calculate the Lyapunov exponent\n",
    "\n",
    "\n",
    "\n"
   ]
  },
  {
   "cell_type": "markdown",
   "metadata": {},
   "source": [
    "# Synchronization of Chaos"
   ]
  },
  {
   "cell_type": "markdown",
   "metadata": {},
   "source": [
    "In this example, we use two identical Lorenz systems coupled as below:<br>\n",
    "\n",
    "\\begin{align}\n",
    "\\mathbf{\\dot{x}_1}=\\mathbf{f}(\\mathbf{x_1})+\\alpha H(\\mathbf{x_2}-\\mathbf{x_1})\\\\\n",
    "\\mathbf{\\dot{x}_2}=\\mathbf{f}(\\mathbf{x_2})+\\alpha H(\\mathbf{x_1}-\\mathbf{x_2})\\\\\n",
    "\\end{align}<br>\n",
    "where $\\mathbf{{x}_1}$ and $\\mathbf{{x}_2}$ in $\\mathbb{R}^n $ are the state vectors of the two Lorenz systems.\n",
    "We assume that the two systems are globally coupled, so $H = I$, the identity matrix, and $\\alpha$ is the strength of the coupling.<br> \n"
   ]
  },
  {
   "cell_type": "code",
   "execution_count": 20,
   "metadata": {},
   "outputs": [],
   "source": [
    "# Define a function for two coupled Lorenz systems\n",
    "# You can determine the critical value of alpha from the Lyapunov exponent that you have already found above\n",
    "\n",
    "\n",
    "\n",
    "\n",
    "\n"
   ]
  },
  {
   "cell_type": "code",
   "execution_count": 19,
   "metadata": {},
   "outputs": [],
   "source": [
    "# Use Runge-Kutta to integrate two coupled Lorenz systems\n",
    "\n",
    "\n",
    "\n",
    "\n",
    "\n",
    "\n",
    "\n"
   ]
  },
  {
   "cell_type": "code",
   "execution_count": 22,
   "metadata": {},
   "outputs": [],
   "source": [
    "# Call Dist function again to calculate the euclidian distance between them\n",
    "# Plot Synchronization Error versus t\n",
    "\n",
    "\n",
    "\n",
    "\n",
    "\n"
   ]
  },
  {
   "cell_type": "markdown",
   "metadata": {},
   "source": [
    "# Synchronization in Driven Systems: A Master-Slave System\n",
    "\n",
    "_See section 2.2.1 of [Deniz's paper](https://sites.icmc.usp.br/tiago/index.html/assets/synchronisation-of-chaos-and-its-applications.pdf) for full description_\n",
    "\n",
    "In this setting, a master system (here chosen as a Lorenz system with parameters guaranteeing chaotic dynamics) is used to drive a slave system (a subsystem of a Lorenz system). These two systems share the set of parameters $\\rho, \\beta$ and $\\sigma$. x-component of the master system is used to drive the slave system, which consists of only y and z components of a Lorenz system.\n",
    "\n",
    "Such synchronization was introduced in [Pecora and Carroll, 1990]( https://journals.aps.org/prl/pdf/10.1103/PhysRevLett.64.821).\n",
    "\n",
    "The master system equations are:<br>\n",
    "$\\dot{x} = \\sigma (y-x)$<br>\n",
    "$\\dot{y} = x(\\rho-z)$-y<br>\n",
    "$\\dot{z} = xy - \\beta z$<br>\n",
    "\n",
    "Slave system equations are:<br>\n",
    "$\\dot{y}_s = x(\\rho-z_s)-y_s$<br>\n",
    "$\\dot{z}_s = xy_s - \\beta z_s$<br>\n",
    "where subscript $\\mathit{s}$ denotes slave system variables.  "
   ]
  },
  {
   "cell_type": "code",
   "execution_count": 23,
   "metadata": {},
   "outputs": [],
   "source": [
    "#Define a function for master-slave Lorenz systems\n",
    "\n",
    "\n",
    "\n",
    "\n",
    "\n"
   ]
  },
  {
   "cell_type": "code",
   "execution_count": 24,
   "metadata": {},
   "outputs": [],
   "source": [
    "#Use Runge-Kutta to integrate this driven system\n",
    "\n",
    "\n",
    "\n",
    "\n",
    "\n",
    "\n"
   ]
  },
  {
   "cell_type": "markdown",
   "metadata": {},
   "source": [
    "We can define the difference function between the $y$ and $z$ components of the Master and Slave Systems as:<br>\n",
    "$\\Delta y(t) = y(t) - y_s(t)$<br>\n",
    "$\\Delta z(t) = z(t) - z_s(t)$"
   ]
  },
  {
   "cell_type": "code",
   "execution_count": 26,
   "metadata": {},
   "outputs": [],
   "source": [
    "#Calculate deltas and plot them\n",
    "\n",
    "\n",
    "\n",
    "\n",
    "\n"
   ]
  }
 ],
 "metadata": {
  "kernelspec": {
   "display_name": "Python (network)",
   "language": "python",
   "name": "network"
  },
  "language_info": {
   "codemirror_mode": {
    "name": "ipython",
    "version": 3
   },
   "file_extension": ".py",
   "mimetype": "text/x-python",
   "name": "python",
   "nbconvert_exporter": "python",
   "pygments_lexer": "ipython3",
   "version": "3.8.1"
  }
 },
 "nbformat": 4,
 "nbformat_minor": 4
}
